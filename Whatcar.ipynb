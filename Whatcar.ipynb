{
  "nbformat": 4,
  "nbformat_minor": 0,
  "metadata": {
    "colab": {
      "name": "Whatcar.ipynb",
      "provenance": [],
      "authorship_tag": "ABX9TyM4OOxkxSsqAubo0VtA3yyX",
      "include_colab_link": true
    },
    "kernelspec": {
      "name": "python3",
      "display_name": "Python 3"
    }
  },
  "cells": [
    {
      "cell_type": "markdown",
      "metadata": {
        "id": "view-in-github",
        "colab_type": "text"
      },
      "source": [
        "<a href=\"https://colab.research.google.com/github/skdmajee/fastai/blob/master/Whatcar.ipynb\" target=\"_parent\"><img src=\"https://colab.research.google.com/assets/colab-badge.svg\" alt=\"Open In Colab\"/></a>"
      ]
    },
    {
      "cell_type": "markdown",
      "metadata": {
        "id": "tKimuiXiDOLD",
        "colab_type": "text"
      },
      "source": [
        "#Auto Classification"
      ]
    },
    {
      "cell_type": "code",
      "metadata": {
        "colab_type": "code",
        "id": "lVfK-TniCsiS",
        "colab": {}
      },
      "source": [
        "%reload_ext autoreload\n",
        "%autoreload 2\n",
        "%matplotlib inline\n",
        "from fastai.vision import *\n",
        "from fastai.metrics import error_rate"
      ],
      "execution_count": 0,
      "outputs": []
    },
    {
      "cell_type": "markdown",
      "metadata": {
        "id": "DnsmBFM5DoV5",
        "colab_type": "text"
      },
      "source": [
        "#Prepare for kaggle"
      ]
    },
    {
      "cell_type": "code",
      "metadata": {
        "id": "5kNhHIblC_dd",
        "colab_type": "code",
        "colab": {
          "base_uri": "https://localhost:8080/",
          "height": 68
        },
        "outputId": "3da9b1d6-8c08-4a3a-b437-d94d8c0385a0"
      },
      "source": [
        "# !pip install kaggle --upgrade\n",
        "# !mkdir -p ~/.kaggle/\n",
        "  !ls -al ~/.kaggle"
      ],
      "execution_count": 7,
      "outputs": [
        {
          "output_type": "stream",
          "text": [
            "total 12\n",
            "drwxr-xr-x 2 root root 4096 May  4 00:30 .\n",
            "drwx------ 1 root root 4096 May  4 00:30 ..\n"
          ],
          "name": "stdout"
        }
      ]
    },
    {
      "cell_type": "code",
      "metadata": {
        "id": "A2laqMVGClgO",
        "colab_type": "code",
        "colab": {}
      },
      "source": [
        ""
      ],
      "execution_count": 0,
      "outputs": []
    }
  ]
}